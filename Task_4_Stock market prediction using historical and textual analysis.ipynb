{
 "cells": [
  {
   "cell_type": "markdown",
   "metadata": {
    "id": "Emeb3UWUzhyF"
   },
   "source": [
    "# Task_4_Stock market prediction using historical and textual analysis"
   ]
  },
  {
   "cell_type": "code",
   "execution_count": 1,
   "metadata": {
    "id": "Pz1AfzV2iX7S"
   },
   "outputs": [],
   "source": [
    "#importing liabraries\n",
    "import numpy as np \n",
    "import pandas as pd\n",
    "import matplotlib.pyplot as plt\n",
    "from pandas.plotting import lag_plot\n",
    "from pandas import datetime\n",
    "from statsmodels.tsa.arima_model import ARIMA\n",
    "from sklearn.metrics import mean_absolute_error,mean_squared_error\n",
    "from math import sqrt\n",
    "import math\n",
    "import seaborn as sns"
   ]
  },
  {
   "cell_type": "code",
   "execution_count": 2,
   "metadata": {
    "colab": {
     "base_uri": "https://localhost:8080/",
     "height": 204
    },
    "executionInfo": {
     "elapsed": 2981,
     "status": "ok",
     "timestamp": 1603122826063,
     "user": {
      "displayName": "sharvari padwal",
      "photoUrl": "https://lh3.googleusercontent.com/a-/AOh14Ggn5aPcAZspzwqrCS_MAGFBJsiahmt_c-5e1TV_YA=s64",
      "userId": "16714897458211333916"
     },
     "user_tz": -330
    },
    "id": "JaPKIz8AiX_V",
    "outputId": "7cf7c910-a31f-4470-aac0-f55c8e05598a"
   },
   "outputs": [
    {
     "data": {
      "text/html": [
       "<div>\n",
       "<style scoped>\n",
       "    .dataframe tbody tr th:only-of-type {\n",
       "        vertical-align: middle;\n",
       "    }\n",
       "\n",
       "    .dataframe tbody tr th {\n",
       "        vertical-align: top;\n",
       "    }\n",
       "\n",
       "    .dataframe thead th {\n",
       "        text-align: right;\n",
       "    }\n",
       "</style>\n",
       "<table border=\"1\" class=\"dataframe\">\n",
       "  <thead>\n",
       "    <tr style=\"text-align: right;\">\n",
       "      <th></th>\n",
       "      <th>Date</th>\n",
       "      <th>Open</th>\n",
       "      <th>High</th>\n",
       "      <th>Low</th>\n",
       "      <th>Close</th>\n",
       "      <th>Adj Close</th>\n",
       "      <th>Volume</th>\n",
       "    </tr>\n",
       "  </thead>\n",
       "  <tbody>\n",
       "    <tr>\n",
       "      <th>0</th>\n",
       "      <td>2001-01-02</td>\n",
       "      <td>1320.280029</td>\n",
       "      <td>1320.280029</td>\n",
       "      <td>1276.050049</td>\n",
       "      <td>1283.270020</td>\n",
       "      <td>1283.270020</td>\n",
       "      <td>1129400000</td>\n",
       "    </tr>\n",
       "    <tr>\n",
       "      <th>1</th>\n",
       "      <td>2001-01-03</td>\n",
       "      <td>1283.270020</td>\n",
       "      <td>1347.760010</td>\n",
       "      <td>1274.619995</td>\n",
       "      <td>1347.560059</td>\n",
       "      <td>1347.560059</td>\n",
       "      <td>1880700000</td>\n",
       "    </tr>\n",
       "    <tr>\n",
       "      <th>2</th>\n",
       "      <td>2001-01-04</td>\n",
       "      <td>1347.560059</td>\n",
       "      <td>1350.239990</td>\n",
       "      <td>1329.140015</td>\n",
       "      <td>1333.339966</td>\n",
       "      <td>1333.339966</td>\n",
       "      <td>2131000000</td>\n",
       "    </tr>\n",
       "    <tr>\n",
       "      <th>3</th>\n",
       "      <td>2001-01-05</td>\n",
       "      <td>1333.339966</td>\n",
       "      <td>1334.770020</td>\n",
       "      <td>1294.949951</td>\n",
       "      <td>1298.349976</td>\n",
       "      <td>1298.349976</td>\n",
       "      <td>1430800000</td>\n",
       "    </tr>\n",
       "    <tr>\n",
       "      <th>4</th>\n",
       "      <td>2001-01-08</td>\n",
       "      <td>1298.349976</td>\n",
       "      <td>1298.349976</td>\n",
       "      <td>1276.290039</td>\n",
       "      <td>1295.859985</td>\n",
       "      <td>1295.859985</td>\n",
       "      <td>1115500000</td>\n",
       "    </tr>\n",
       "  </tbody>\n",
       "</table>\n",
       "</div>"
      ],
      "text/plain": [
       "         Date         Open         High          Low        Close  \\\n",
       "0  2001-01-02  1320.280029  1320.280029  1276.050049  1283.270020   \n",
       "1  2001-01-03  1283.270020  1347.760010  1274.619995  1347.560059   \n",
       "2  2001-01-04  1347.560059  1350.239990  1329.140015  1333.339966   \n",
       "3  2001-01-05  1333.339966  1334.770020  1294.949951  1298.349976   \n",
       "4  2001-01-08  1298.349976  1298.349976  1276.290039  1295.859985   \n",
       "\n",
       "     Adj Close      Volume  \n",
       "0  1283.270020  1129400000  \n",
       "1  1347.560059  1880700000  \n",
       "2  1333.339966  2131000000  \n",
       "3  1298.349976  1430800000  \n",
       "4  1295.859985  1115500000  "
      ]
     },
     "execution_count": 2,
     "metadata": {},
     "output_type": "execute_result"
    }
   ],
   "source": [
    "df= pd.read_csv(\"https://query1.finance.yahoo.com/v7/finance/download/%5EGSPC?period1=978307200&period2=1602979200&interval=1d&events=history&includeAdjustedClose=true\")\n",
    "df.head()"
   ]
  },
  {
   "cell_type": "code",
   "execution_count": 3,
   "metadata": {
    "colab": {
     "base_uri": "https://localhost:8080/",
     "height": 297
    },
    "executionInfo": {
     "elapsed": 1321,
     "status": "ok",
     "timestamp": 1603122924284,
     "user": {
      "displayName": "sharvari padwal",
      "photoUrl": "https://lh3.googleusercontent.com/a-/AOh14Ggn5aPcAZspzwqrCS_MAGFBJsiahmt_c-5e1TV_YA=s64",
      "userId": "16714897458211333916"
     },
     "user_tz": -330
    },
    "id": "WQvJJUgeiYDv",
    "outputId": "60fe7b72-ed8c-48db-cdc6-42579e95d494"
   },
   "outputs": [
    {
     "data": {
      "text/html": [
       "<div>\n",
       "<style scoped>\n",
       "    .dataframe tbody tr th:only-of-type {\n",
       "        vertical-align: middle;\n",
       "    }\n",
       "\n",
       "    .dataframe tbody tr th {\n",
       "        vertical-align: top;\n",
       "    }\n",
       "\n",
       "    .dataframe thead th {\n",
       "        text-align: right;\n",
       "    }\n",
       "</style>\n",
       "<table border=\"1\" class=\"dataframe\">\n",
       "  <thead>\n",
       "    <tr style=\"text-align: right;\">\n",
       "      <th></th>\n",
       "      <th>Open</th>\n",
       "      <th>High</th>\n",
       "      <th>Low</th>\n",
       "      <th>Close</th>\n",
       "      <th>Adj Close</th>\n",
       "      <th>Volume</th>\n",
       "    </tr>\n",
       "  </thead>\n",
       "  <tbody>\n",
       "    <tr>\n",
       "      <th>count</th>\n",
       "      <td>4980.000000</td>\n",
       "      <td>4980.000000</td>\n",
       "      <td>4980.000000</td>\n",
       "      <td>4980.000000</td>\n",
       "      <td>4980.000000</td>\n",
       "      <td>4.980000e+03</td>\n",
       "    </tr>\n",
       "    <tr>\n",
       "      <th>mean</th>\n",
       "      <td>1644.797604</td>\n",
       "      <td>1654.172952</td>\n",
       "      <td>1634.592972</td>\n",
       "      <td>1645.017200</td>\n",
       "      <td>1645.017200</td>\n",
       "      <td>3.272782e+09</td>\n",
       "    </tr>\n",
       "    <tr>\n",
       "      <th>std</th>\n",
       "      <td>663.867441</td>\n",
       "      <td>665.903384</td>\n",
       "      <td>661.494154</td>\n",
       "      <td>663.946038</td>\n",
       "      <td>663.946038</td>\n",
       "      <td>1.474020e+09</td>\n",
       "    </tr>\n",
       "    <tr>\n",
       "      <th>min</th>\n",
       "      <td>679.280029</td>\n",
       "      <td>695.270020</td>\n",
       "      <td>666.789978</td>\n",
       "      <td>676.530029</td>\n",
       "      <td>676.530029</td>\n",
       "      <td>3.560700e+08</td>\n",
       "    </tr>\n",
       "    <tr>\n",
       "      <th>25%</th>\n",
       "      <td>1148.999970</td>\n",
       "      <td>1157.667480</td>\n",
       "      <td>1140.119995</td>\n",
       "      <td>1149.467499</td>\n",
       "      <td>1149.467499</td>\n",
       "      <td>2.076878e+09</td>\n",
       "    </tr>\n",
       "    <tr>\n",
       "      <th>50%</th>\n",
       "      <td>1363.604981</td>\n",
       "      <td>1369.195007</td>\n",
       "      <td>1355.225036</td>\n",
       "      <td>1364.110046</td>\n",
       "      <td>1364.110046</td>\n",
       "      <td>3.337025e+09</td>\n",
       "    </tr>\n",
       "    <tr>\n",
       "      <th>75%</th>\n",
       "      <td>2078.070007</td>\n",
       "      <td>2085.909912</td>\n",
       "      <td>2067.010010</td>\n",
       "      <td>2079.115051</td>\n",
       "      <td>2079.115051</td>\n",
       "      <td>4.038788e+09</td>\n",
       "    </tr>\n",
       "    <tr>\n",
       "      <th>max</th>\n",
       "      <td>3564.739990</td>\n",
       "      <td>3588.110107</td>\n",
       "      <td>3535.229980</td>\n",
       "      <td>3580.840088</td>\n",
       "      <td>3580.840088</td>\n",
       "      <td>1.145623e+10</td>\n",
       "    </tr>\n",
       "  </tbody>\n",
       "</table>\n",
       "</div>"
      ],
      "text/plain": [
       "              Open         High          Low        Close    Adj Close  \\\n",
       "count  4980.000000  4980.000000  4980.000000  4980.000000  4980.000000   \n",
       "mean   1644.797604  1654.172952  1634.592972  1645.017200  1645.017200   \n",
       "std     663.867441   665.903384   661.494154   663.946038   663.946038   \n",
       "min     679.280029   695.270020   666.789978   676.530029   676.530029   \n",
       "25%    1148.999970  1157.667480  1140.119995  1149.467499  1149.467499   \n",
       "50%    1363.604981  1369.195007  1355.225036  1364.110046  1364.110046   \n",
       "75%    2078.070007  2085.909912  2067.010010  2079.115051  2079.115051   \n",
       "max    3564.739990  3588.110107  3535.229980  3580.840088  3580.840088   \n",
       "\n",
       "             Volume  \n",
       "count  4.980000e+03  \n",
       "mean   3.272782e+09  \n",
       "std    1.474020e+09  \n",
       "min    3.560700e+08  \n",
       "25%    2.076878e+09  \n",
       "50%    3.337025e+09  \n",
       "75%    4.038788e+09  \n",
       "max    1.145623e+10  "
      ]
     },
     "execution_count": 3,
     "metadata": {},
     "output_type": "execute_result"
    }
   ],
   "source": [
    "df.describe()"
   ]
  },
  {
   "cell_type": "code",
   "execution_count": 4,
   "metadata": {
    "colab": {
     "base_uri": "https://localhost:8080/",
     "height": 296
    },
    "executionInfo": {
     "elapsed": 3143,
     "status": "ok",
     "timestamp": 1603135673590,
     "user": {
      "displayName": "sharvari padwal",
      "photoUrl": "https://lh3.googleusercontent.com/a-/AOh14Ggn5aPcAZspzwqrCS_MAGFBJsiahmt_c-5e1TV_YA=s64",
      "userId": "16714897458211333916"
     },
     "user_tz": -330
    },
    "id": "G55-6qL1iYHf",
    "outputId": "a08f090b-becf-4f89-a386-5ff5bd62310b"
   },
   "outputs": [
    {
     "data": {
      "text/plain": [
       "<matplotlib.legend.Legend at 0xda750f0>"
      ]
     },
     "execution_count": 4,
     "metadata": {},
     "output_type": "execute_result"
    },
    {
     "data": {
      "image/png": "[encoded data removed]",
      "text/plain": [
       "<Figure size 432x288 with 1 Axes>"
      ]
     },
     "metadata": {
      "needs_background": "light"
     },
     "output_type": "display_data"
    }
   ],
   "source": [
    "#train & test\n",
    "\n",
    "train_data, test_data = df[:int(len(df)*0.9)], df[int(len(df)*0.9):]\n",
    "plt.grid(True)\n",
    "plt.xlabel('Dates')\n",
    "plt.ylabel('Closing Prices')\n",
    "plt.plot(df['Close'], 'red', label= 'train data')\n",
    "plt.plot(test_data['Close'], 'yellow', label= 'Test data')\n",
    "plt.legend()"
   ]
  },
  {
   "cell_type": "code",
   "execution_count": 5,
   "metadata": {
    "colab": {
     "base_uri": "https://localhost:8080/",
     "height": 357
    },
    "executionInfo": {
     "elapsed": 1181,
     "status": "ok",
     "timestamp": 1603134984593,
     "user": {
      "displayName": "sharvari padwal",
      "photoUrl": "https://lh3.googleusercontent.com/a-/AOh14Ggn5aPcAZspzwqrCS_MAGFBJsiahmt_c-5e1TV_YA=s64",
      "userId": "16714897458211333916"
     },
     "user_tz": -330
    },
    "id": "U4S9BNpLSkLe",
    "outputId": "7152723a-907f-4c3d-eb48-db77edcd4c29"
   },
   "outputs": [
    {
     "name": "stdout",
     "output_type": "stream",
     "text": [
      "                             ARIMA Model Results                              \n",
      "==============================================================================\n",
      "Dep. Variable:                D.Close   No. Observations:                 4481\n",
      "Model:                 ARIMA(0, 1, 1)   Log Likelihood              -18567.612\n",
      "Method:                       css-mle   S.D. of innovations             15.252\n",
      "Date:                Tue, 20 Oct 2020   AIC                          37141.224\n",
      "Time:                        04:37:27   BIC                          37160.447\n",
      "Sample:                             1   HQIC                         37147.999\n",
      "                                                                              \n",
      "=================================================================================\n",
      "                    coef    std err          z      P>|z|      [0.025      0.975]\n",
      "---------------------------------------------------------------------------------\n",
      "const             0.3067      0.213      1.441      0.150      -0.110       0.724\n",
      "ma.L1.D.Close    -0.0661      0.016     -4.222      0.000      -0.097      -0.035\n",
      "                                    Roots                                    \n",
      "=============================================================================\n",
      "                  Real          Imaginary           Modulus         Frequency\n",
      "-----------------------------------------------------------------------------\n",
      "MA.1           15.1268           +0.0000j           15.1268            0.0000\n",
      "-----------------------------------------------------------------------------\n"
     ]
    }
   ],
   "source": [
    "#arima\n",
    "model = ARIMA(train_data['Close'], order=(0,1,1))  \n",
    "fitted = model.fit(disp=-1)  \n",
    "print(fitted.summary())"
   ]
  },
  {
   "cell_type": "code",
   "execution_count": 6,
   "metadata": {
    "colab": {
     "base_uri": "https://localhost:8080/",
     "height": 295
    },
    "executionInfo": {
     "elapsed": 2629,
     "status": "ok",
     "timestamp": 1603135640212,
     "user": {
      "displayName": "sharvari padwal",
      "photoUrl": "https://lh3.googleusercontent.com/a-/AOh14Ggn5aPcAZspzwqrCS_MAGFBJsiahmt_c-5e1TV_YA=s64",
      "userId": "16714897458211333916"
     },
     "user_tz": -330
    },
    "id": "XnS5WrvLm7jC",
    "outputId": "1d96de1e-d057-4dab-83d0-3403f32f556c"
   },
   "outputs": [
    {
     "data": {
      "image/png": "[encoded data removed]",
      "text/plain": [
       "<Figure size 432x288 with 1 Axes>"
      ]
     },
     "metadata": {
      "needs_background": "light"
     },
     "output_type": "display_data"
    }
   ],
   "source": [
    "#prediction\n",
    "fc, se, conf = fitted.forecast(498, alpha=0.05)  # 95% confidence\n",
    "fc_series = pd.Series(fc, index=test_data.index)\n",
    "lower_series = pd.Series(conf[:, 0], index=test_data.index)\n",
    "upper_series = pd.Series(conf[:, 1], index=test_data.index)\n",
    "plt.plot(train_data['Close'], label='training')\n",
    "plt.plot(test_data['Close'], color = 'blue', label='Actual Stock Price')\n",
    "plt.plot(fc_series, color = 'orange',label='Predicted Stock Price')\n",
    "plt.fill_between(lower_series.index, lower_series, upper_series, \n",
    "                 color='k', alpha=.10)\n",
    "plt.title('BSE Sensex Stock Price Prediction')\n",
    "plt.xlabel('Time')\n",
    "plt.ylabel('Actual Stock Price')\n",
    "plt.legend(loc='upper left', fontsize=8)\n",
    "plt.show()\n",
    "\n"
   ]
  },
  {
   "cell_type": "code",
   "execution_count": 7,
   "metadata": {
    "colab": {
     "base_uri": "https://localhost:8080/",
     "height": 85
    },
    "executionInfo": {
     "elapsed": 1094,
     "status": "ok",
     "timestamp": 1603135141289,
     "user": {
      "displayName": "sharvari padwal",
      "photoUrl": "https://lh3.googleusercontent.com/a-/AOh14Ggn5aPcAZspzwqrCS_MAGFBJsiahmt_c-5e1TV_YA=s64",
      "userId": "16714897458211333916"
     },
     "user_tz": -330
    },
    "id": "q0WPXPd4iYNb",
    "outputId": "d2c8bf00-4769-4bd6-dddd-fb1c6c22fa4f"
   },
   "outputs": [
    {
     "name": "stdout",
     "output_type": "stream",
     "text": [
      "MSE: 107536.746902914\n",
      "MAE: 272.76243899844286\n",
      "RMSE: 327.927959929\n",
      "MAPE: 0.0880924424188\n"
     ]
    }
   ],
   "source": [
    "# Performance report\n",
    "mse = mean_squared_error(test_data['Close'], fc)\n",
    "print('MSE: '+str(mse))\n",
    "mae = mean_absolute_error(test_data['Close'], fc)\n",
    "print('MAE: '+str(mae))\n",
    "rmse = math.sqrt(mean_squared_error(test_data['Close'], fc))\n",
    "print('RMSE: '+str(rmse))\n",
    "mape = np.mean(np.abs(fc - test_data['Close'])/np.abs(test_data['Close']))\n",
    "print('MAPE: '+str(mape))"
   ]
  },
  {
   "cell_type": "code",
   "execution_count": 8,
   "metadata": {
    "colab": {
     "base_uri": "https://localhost:8080/",
     "height": 119
    },
    "executionInfo": {
     "elapsed": 3173,
     "status": "ok",
     "timestamp": 1603136949948,
     "user": {
      "displayName": "sharvari padwal",
      "photoUrl": "https://lh3.googleusercontent.com/a-/AOh14Ggn5aPcAZspzwqrCS_MAGFBJsiahmt_c-5e1TV_YA=s64",
      "userId": "16714897458211333916"
     },
     "user_tz": -330
    },
    "id": "oSHzhq5ETrpo",
    "outputId": "f24df618-3023-4336-8561-2e545b0b19cf"
   },
   "outputs": [
    {
     "name": "stderr",
     "output_type": "stream",
     "text": [
      "[nltk_data] Downloading package punkt to C:\\Users\\Apurwa\n",
      "[nltk_data]     Kamble\\AppData\\Roaming\\nltk_data...\n",
      "[nltk_data]   Package punkt is already up-to-date!\n",
      "[nltk_data] Downloading package wordnet to C:\\Users\\Apurwa\n",
      "[nltk_data]     Kamble\\AppData\\Roaming\\nltk_data...\n",
      "[nltk_data]   Package wordnet is already up-to-date!\n",
      "[nltk_data] Downloading package vader_lexicon to C:\\Users\\Apurwa\n",
      "[nltk_data]     Kamble\\AppData\\Roaming\\nltk_data...\n",
      "[nltk_data]   Package vader_lexicon is already up-to-date!\n"
     ]
    },
    {
     "data": {
      "text/plain": [
       "True"
      ]
     },
     "execution_count": 8,
     "metadata": {},
     "output_type": "execute_result"
    }
   ],
   "source": [
    "from datetime import datetime\n",
    "import string\n",
    "import re\n",
    "import nltk\n",
    "nltk.download('punkt')\n",
    "nltk.download('wordnet')\n",
    "nltk.download('vader_lexicon')"
   ]
  },
  {
   "cell_type": "code",
   "execution_count": 9,
   "metadata": {
    "id": "_GZHbIBQckoC"
   },
   "outputs": [],
   "source": [
    "import datetime\n",
    "import pandas_datareader.data as web\n",
    "from pandas import Series, DataFrame"
   ]
  },
  {
   "cell_type": "code",
   "execution_count": 10,
   "metadata": {
    "id": "hoBtlXzYaLfp"
   },
   "outputs": [],
   "source": [
    "df1 = pd.read_csv(\"C:\\Users\\Apurwa Kamble\\india-news-headlines.csv\")"
   ]
  },
  {
   "cell_type": "code",
   "execution_count": 11,
   "metadata": {
    "colab": {
     "base_uri": "https://localhost:8080/",
     "height": 297
    },
    "executionInfo": {
     "elapsed": 1128,
     "status": "ok",
     "timestamp": 1603137908879,
     "user": {
      "displayName": "sharvari padwal",
      "photoUrl": "https://lh3.googleusercontent.com/a-/AOh14Ggn5aPcAZspzwqrCS_MAGFBJsiahmt_c-5e1TV_YA=s64",
      "userId": "16714897458211333916"
     },
     "user_tz": -330
    },
    "id": "oxTuvHGYaLpl",
    "outputId": "2f1e8efd-bc91-4bd7-a1d4-ae331f37dcf9"
   },
   "outputs": [
    {
     "data": {
      "text/html": [
       "<div>\n",
       "<style scoped>\n",
       "    .dataframe tbody tr th:only-of-type {\n",
       "        vertical-align: middle;\n",
       "    }\n",
       "\n",
       "    .dataframe tbody tr th {\n",
       "        vertical-align: top;\n",
       "    }\n",
       "\n",
       "    .dataframe thead th {\n",
       "        text-align: right;\n",
       "    }\n",
       "</style>\n",
       "<table border=\"1\" class=\"dataframe\">\n",
       "  <thead>\n",
       "    <tr style=\"text-align: right;\">\n",
       "      <th></th>\n",
       "      <th>publish_date</th>\n",
       "    </tr>\n",
       "  </thead>\n",
       "  <tbody>\n",
       "    <tr>\n",
       "      <th>count</th>\n",
       "      <td>3.297172e+06</td>\n",
       "    </tr>\n",
       "    <tr>\n",
       "      <th>mean</th>\n",
       "      <td>2.012470e+07</td>\n",
       "    </tr>\n",
       "    <tr>\n",
       "      <th>std</th>\n",
       "      <td>4.896213e+04</td>\n",
       "    </tr>\n",
       "    <tr>\n",
       "      <th>min</th>\n",
       "      <td>2.001010e+07</td>\n",
       "    </tr>\n",
       "    <tr>\n",
       "      <th>25%</th>\n",
       "      <td>2.009101e+07</td>\n",
       "    </tr>\n",
       "    <tr>\n",
       "      <th>50%</th>\n",
       "      <td>2.013071e+07</td>\n",
       "    </tr>\n",
       "    <tr>\n",
       "      <th>75%</th>\n",
       "      <td>2.016110e+07</td>\n",
       "    </tr>\n",
       "    <tr>\n",
       "      <th>max</th>\n",
       "      <td>2.020063e+07</td>\n",
       "    </tr>\n",
       "  </tbody>\n",
       "</table>\n",
       "</div>"
      ],
      "text/plain": [
       "       publish_date\n",
       "count  3.297172e+06\n",
       "mean   2.012470e+07\n",
       "std    4.896213e+04\n",
       "min    2.001010e+07\n",
       "25%    2.009101e+07\n",
       "50%    2.013071e+07\n",
       "75%    2.016110e+07\n",
       "max    2.020063e+07"
      ]
     },
     "execution_count": 11,
     "metadata": {},
     "output_type": "execute_result"
    }
   ],
   "source": [
    "df1.describe()"
   ]
  },
  {
   "cell_type": "code",
   "execution_count": 12,
   "metadata": {
    "colab": {
     "base_uri": "https://localhost:8080/",
     "height": 204
    },
    "executionInfo": {
     "elapsed": 1198,
     "status": "ok",
     "timestamp": 1603137938195,
     "user": {
      "displayName": "sharvari padwal",
      "photoUrl": "https://lh3.googleusercontent.com/a-/AOh14Ggn5aPcAZspzwqrCS_MAGFBJsiahmt_c-5e1TV_YA=s64",
      "userId": "16714897458211333916"
     },
     "user_tz": -330
    },
    "id": "W-OgXTZ4aLvc",
    "outputId": "811e3dae-055c-44d2-d5ae-3e9227e7b2ce"
   },
   "outputs": [
    {
     "data": {
      "text/html": [
       "<div>\n",
       "<style scoped>\n",
       "    .dataframe tbody tr th:only-of-type {\n",
       "        vertical-align: middle;\n",
       "    }\n",
       "\n",
       "    .dataframe tbody tr th {\n",
       "        vertical-align: top;\n",
       "    }\n",
       "\n",
       "    .dataframe thead th {\n",
       "        text-align: right;\n",
       "    }\n",
       "</style>\n",
       "<table border=\"1\" class=\"dataframe\">\n",
       "  <thead>\n",
       "    <tr style=\"text-align: right;\">\n",
       "      <th></th>\n",
       "      <th>publish_date</th>\n",
       "      <th>headline_category</th>\n",
       "      <th>headline_text</th>\n",
       "    </tr>\n",
       "  </thead>\n",
       "  <tbody>\n",
       "    <tr>\n",
       "      <th>0</th>\n",
       "      <td>20010101</td>\n",
       "      <td>sports.wwe</td>\n",
       "      <td>win over cena satisfying but defeating underta...</td>\n",
       "    </tr>\n",
       "    <tr>\n",
       "      <th>1</th>\n",
       "      <td>20010102</td>\n",
       "      <td>unknown</td>\n",
       "      <td>Status quo will not be disturbed at Ayodhya; s...</td>\n",
       "    </tr>\n",
       "    <tr>\n",
       "      <th>2</th>\n",
       "      <td>20010102</td>\n",
       "      <td>unknown</td>\n",
       "      <td>Fissures in Hurriyat over Pak visit</td>\n",
       "    </tr>\n",
       "    <tr>\n",
       "      <th>3</th>\n",
       "      <td>20010102</td>\n",
       "      <td>unknown</td>\n",
       "      <td>America's unwanted heading for India?</td>\n",
       "    </tr>\n",
       "    <tr>\n",
       "      <th>4</th>\n",
       "      <td>20010102</td>\n",
       "      <td>unknown</td>\n",
       "      <td>For bigwigs; it is destination Goa</td>\n",
       "    </tr>\n",
       "  </tbody>\n",
       "</table>\n",
       "</div>"
      ],
      "text/plain": [
       "   publish_date headline_category  \\\n",
       "0      20010101        sports.wwe   \n",
       "1      20010102           unknown   \n",
       "2      20010102           unknown   \n",
       "3      20010102           unknown   \n",
       "4      20010102           unknown   \n",
       "\n",
       "                                       headline_text  \n",
       "0  win over cena satisfying but defeating underta...  \n",
       "1  Status quo will not be disturbed at Ayodhya; s...  \n",
       "2                Fissures in Hurriyat over Pak visit  \n",
       "3              America's unwanted heading for India?  \n",
       "4                 For bigwigs; it is destination Goa  "
      ]
     },
     "execution_count": 12,
     "metadata": {},
     "output_type": "execute_result"
    }
   ],
   "source": [
    "df1.head()"
   ]
  },
  {
   "cell_type": "code",
   "execution_count": 13,
   "metadata": {
    "id": "MtqnhE11aL1n"
   },
   "outputs": [],
   "source": [
    "df1['publish_date'] = pd.to_datetime(df1['publish_date'],format='%Y%m%d')\n"
   ]
  },
  {
   "cell_type": "code",
   "execution_count": 14,
   "metadata": {
    "colab": {
     "base_uri": "https://localhost:8080/",
     "height": 266
    },
    "executionInfo": {
     "elapsed": 1689,
     "status": "ok",
     "timestamp": 1603143077460,
     "user": {
      "displayName": "sharvari padwal",
      "photoUrl": "https://lh3.googleusercontent.com/a-/AOh14Ggn5aPcAZspzwqrCS_MAGFBJsiahmt_c-5e1TV_YA=s64",
      "userId": "16714897458211333916"
     },
     "user_tz": -330
    },
    "id": "xcDOouUJxe5M",
    "outputId": "b86f2cc0-38b3-41cf-a6de-693fa83921a2"
   },
   "outputs": [
    {
     "data": {
      "image/png": "[encoded data removed]",
      "text/plain": [
       "<Figure size 432x288 with 1 Axes>"
      ]
     },
     "metadata": {
      "needs_background": "light"
     },
     "output_type": "display_data"
    }
   ],
   "source": [
    "df1['headline_text'].str.len().hist()\n",
    "plt.show()"
   ]
  },
  {
   "cell_type": "code",
   "execution_count": 15,
   "metadata": {
    "id": "9J_b7ISeaL_e"
   },
   "outputs": [],
   "source": [
    "df2 = df1[df1['publish_date']> '2005-06-29'].reset_index(drop=True)\n"
   ]
  },
  {
   "cell_type": "code",
   "execution_count": 16,
   "metadata": {
    "colab": {
     "base_uri": "https://localhost:8080/",
     "height": 34
    },
    "executionInfo": {
     "elapsed": 1314,
     "status": "ok",
     "timestamp": 1603138772824,
     "user": {
      "displayName": "sharvari padwal",
      "photoUrl": "https://lh3.googleusercontent.com/a-/AOh14Ggn5aPcAZspzwqrCS_MAGFBJsiahmt_c-5e1TV_YA=s64",
      "userId": "16714897458211333916"
     },
     "user_tz": -330
    },
    "id": "E8PC05b0hCZu",
    "outputId": "d331e379-5a02-4c0b-bd60-1cd0550dedf6"
   },
   "outputs": [
    {
     "data": {
      "text/plain": [
       "(2941736, 3)"
      ]
     },
     "execution_count": 16,
     "metadata": {},
     "output_type": "execute_result"
    }
   ],
   "source": [
    "df2.shape"
   ]
  },
  {
   "cell_type": "code",
   "execution_count": 17,
   "metadata": {
    "id": "WGXk1OQPhCfS"
   },
   "outputs": [],
   "source": [
    "headline_cats = [cat for cat in df2['headline_category'].value_counts().index if 'business' in cat]"
   ]
  },
  {
   "cell_type": "code",
   "execution_count": 18,
   "metadata": {
    "colab": {
     "base_uri": "https://localhost:8080/",
     "height": 85
    },
    "executionInfo": {
     "elapsed": 1119,
     "status": "ok",
     "timestamp": 1603139146140,
     "user": {
      "displayName": "sharvari padwal",
      "photoUrl": "https://lh3.googleusercontent.com/a-/AOh14Ggn5aPcAZspzwqrCS_MAGFBJsiahmt_c-5e1TV_YA=s64",
      "userId": "16714897458211333916"
     },
     "user_tz": -330
    },
    "id": "N7IiT_B8hCji",
    "outputId": "55239bf9-e347-400b-a6fc-1f2727bf67b3"
   },
   "outputs": [
    {
     "data": {
      "text/plain": [
       "['business.india-business',\n",
       " 'business.international-business',\n",
       " 'business.personal-finance',\n",
       " 'business',\n",
       " 'india-business-news-wire',\n",
       " 'business.faqs.income-tax-faqs',\n",
       " 'business.mf-simplified.mf-news',\n",
       " 'business.mf-simplified.jargon-busters.debt',\n",
       " 'business.faqs.aadhar-faqs',\n",
       " 'business.mf-simplified.jargon-busters.equity',\n",
       " 'business.mf-simplified.faq',\n",
       " 'business.faqs.gst-faqs']"
      ]
     },
     "execution_count": 18,
     "metadata": {},
     "output_type": "execute_result"
    }
   ],
   "source": [
    "headline_cats"
   ]
  },
  {
   "cell_type": "code",
   "execution_count": 19,
   "metadata": {
    "id": "nNFMS8oFhCoX"
   },
   "outputs": [],
   "source": [
    "df2 = df2.loc[df2['headline_category'].str.find('business') !=-1].reset_index(drop=True)\n"
   ]
  },
  {
   "cell_type": "code",
   "execution_count": 20,
   "metadata": {
    "colab": {
     "base_uri": "https://localhost:8080/",
     "height": 204
    },
    "executionInfo": {
     "elapsed": 1123,
     "status": "ok",
     "timestamp": 1603139257538,
     "user": {
      "displayName": "sharvari padwal",
      "photoUrl": "https://lh3.googleusercontent.com/a-/AOh14Ggn5aPcAZspzwqrCS_MAGFBJsiahmt_c-5e1TV_YA=s64",
      "userId": "16714897458211333916"
     },
     "user_tz": -330
    },
    "id": "don_93EAhCs0",
    "outputId": "a177c560-0ba2-4a87-f247-6d8f6d9b3621"
   },
   "outputs": [
    {
     "data": {
      "text/html": [
       "<div>\n",
       "<style scoped>\n",
       "    .dataframe tbody tr th:only-of-type {\n",
       "        vertical-align: middle;\n",
       "    }\n",
       "\n",
       "    .dataframe tbody tr th {\n",
       "        vertical-align: top;\n",
       "    }\n",
       "\n",
       "    .dataframe thead th {\n",
       "        text-align: right;\n",
       "    }\n",
       "</style>\n",
       "<table border=\"1\" class=\"dataframe\">\n",
       "  <thead>\n",
       "    <tr style=\"text-align: right;\">\n",
       "      <th></th>\n",
       "      <th>publish_date</th>\n",
       "      <th>headline_category</th>\n",
       "      <th>headline_text</th>\n",
       "    </tr>\n",
       "  </thead>\n",
       "  <tbody>\n",
       "    <tr>\n",
       "      <th>0</th>\n",
       "      <td>2005-07-01</td>\n",
       "      <td>business.india-business</td>\n",
       "      <td>BK Birla group pens Rs 1;000-cr investment plan</td>\n",
       "    </tr>\n",
       "    <tr>\n",
       "      <th>1</th>\n",
       "      <td>2005-07-01</td>\n",
       "      <td>business.india-business</td>\n",
       "      <td>Acquisitions are way forward: Paul</td>\n",
       "    </tr>\n",
       "    <tr>\n",
       "      <th>2</th>\n",
       "      <td>2005-07-01</td>\n",
       "      <td>business.india-business</td>\n",
       "      <td>Central PSUs get purchase preference in govt o...</td>\n",
       "    </tr>\n",
       "    <tr>\n",
       "      <th>3</th>\n",
       "      <td>2005-07-01</td>\n",
       "      <td>business.india-business</td>\n",
       "      <td>Govt removes hurdles for GM to buy Daewoo Indi...</td>\n",
       "    </tr>\n",
       "    <tr>\n",
       "      <th>4</th>\n",
       "      <td>2005-07-01</td>\n",
       "      <td>business.india-business</td>\n",
       "      <td>Anil Ambani to make it big in entertainment</td>\n",
       "    </tr>\n",
       "  </tbody>\n",
       "</table>\n",
       "</div>"
      ],
      "text/plain": [
       "  publish_date        headline_category  \\\n",
       "0   2005-07-01  business.india-business   \n",
       "1   2005-07-01  business.india-business   \n",
       "2   2005-07-01  business.india-business   \n",
       "3   2005-07-01  business.india-business   \n",
       "4   2005-07-01  business.india-business   \n",
       "\n",
       "                                       headline_text  \n",
       "0    BK Birla group pens Rs 1;000-cr investment plan  \n",
       "1                 Acquisitions are way forward: Paul  \n",
       "2  Central PSUs get purchase preference in govt o...  \n",
       "3  Govt removes hurdles for GM to buy Daewoo Indi...  \n",
       "4        Anil Ambani to make it big in entertainment  "
      ]
     },
     "execution_count": 20,
     "metadata": {},
     "output_type": "execute_result"
    }
   ],
   "source": [
    "df2.head()"
   ]
  },
  {
   "cell_type": "code",
   "execution_count": 21,
   "metadata": {
    "id": "CHBZmfFsjUKQ"
   },
   "outputs": [],
   "source": [
    "df3 = df2.groupby('publish_date').agg({'headline_category':'first','headline_text': '. '.join}).reset_index()"
   ]
  },
  {
   "cell_type": "code",
   "execution_count": 22,
   "metadata": {
    "colab": {
     "base_uri": "https://localhost:8080/",
     "height": 255
    },
    "executionInfo": {
     "elapsed": 1093,
     "status": "ok",
     "timestamp": 1603139407298,
     "user": {
      "displayName": "sharvari padwal",
      "photoUrl": "https://lh3.googleusercontent.com/a-/AOh14Ggn5aPcAZspzwqrCS_MAGFBJsiahmt_c-5e1TV_YA=s64",
      "userId": "16714897458211333916"
     },
     "user_tz": -330
    },
    "id": "SgOSezlsjUVd",
    "outputId": "09f1f7e2-911f-4629-f1cd-65dcf96dffcc"
   },
   "outputs": [
    {
     "data": {
      "text/plain": [
       "<bound method DataFrame.head of      publish_date        headline_category  \\\n",
       "0      2005-07-01  business.india-business   \n",
       "1      2005-07-02  business.india-business   \n",
       "2      2005-07-03  business.india-business   \n",
       "3      2005-07-04  business.india-business   \n",
       "4      2005-07-05  business.india-business   \n",
       "5      2005-07-06  business.india-business   \n",
       "6      2005-07-07  business.india-business   \n",
       "7      2005-07-08  business.india-business   \n",
       "8      2005-07-09  business.india-business   \n",
       "9      2005-07-10  business.india-business   \n",
       "10     2005-07-11  business.india-business   \n",
       "11     2005-07-12  business.india-business   \n",
       "12     2005-07-13  business.india-business   \n",
       "13     2005-07-14  business.india-business   \n",
       "14     2005-07-15  business.india-business   \n",
       "15     2005-07-16  business.india-business   \n",
       "16     2005-07-17  business.india-business   \n",
       "17     2005-07-18  business.india-business   \n",
       "18     2005-07-19  business.india-business   \n",
       "19     2005-07-20  business.india-business   \n",
       "20     2005-07-21  business.india-business   \n",
       "21     2005-07-22  business.india-business   \n",
       "22     2005-07-23  business.india-business   \n",
       "23     2005-07-24  business.india-business   \n",
       "24     2005-07-25  business.india-business   \n",
       "25     2005-07-27  business.india-business   \n",
       "26     2005-07-28  business.india-business   \n",
       "27     2005-07-29  business.india-business   \n",
       "28     2005-07-30  business.india-business   \n",
       "29     2005-07-31  business.india-business   \n",
       "...           ...                      ...   \n",
       "5407   2020-06-01  business.india-business   \n",
       "5408   2020-06-02  business.india-business   \n",
       "5409   2020-06-03  business.india-business   \n",
       "5410   2020-06-04  business.india-business   \n",
       "5411   2020-06-05  business.india-business   \n",
       "5412   2020-06-06  business.india-business   \n",
       "5413   2020-06-07  business.india-business   \n",
       "5414   2020-06-08  business.india-business   \n",
       "5415   2020-06-09  business.india-business   \n",
       "5416   2020-06-10  business.india-business   \n",
       "5417   2020-06-11  business.india-business   \n",
       "5418   2020-06-12  business.india-business   \n",
       "5419   2020-06-13  business.india-business   \n",
       "5420   2020-06-14  business.india-business   \n",
       "5421   2020-06-15  business.india-business   \n",
       "5422   2020-06-16  business.india-business   \n",
       "5423   2020-06-17  business.india-business   \n",
       "5424   2020-06-18  business.india-business   \n",
       "5425   2020-06-19  business.india-business   \n",
       "5426   2020-06-20  business.india-business   \n",
       "5427   2020-06-21  business.india-business   \n",
       "5428   2020-06-22  business.india-business   \n",
       "5429   2020-06-23  business.india-business   \n",
       "5430   2020-06-24  business.india-business   \n",
       "5431   2020-06-25  business.india-business   \n",
       "5432   2020-06-26  business.india-business   \n",
       "5433   2020-06-27  business.india-business   \n",
       "5434   2020-06-28  business.india-business   \n",
       "5435   2020-06-29  business.india-business   \n",
       "5436   2020-06-30  business.india-business   \n",
       "\n",
       "                                          headline_text  \n",
       "0     BK Birla group pens Rs 1;000-cr investment pla...  \n",
       "1     Retail boom triggers ancillary industry growth...  \n",
       "2     India ideal for KPO industry. Airlines facing ...  \n",
       "3     Global CEOs; Indian owners: Why the strains ar...  \n",
       "4     Finolex Cables to forward integrate operations...  \n",
       "5     Marico plans to enter health food segment. Bri...  \n",
       "6     FM puts top 100 taxpayers under the I-T scanne...  \n",
       "7     Govt infusing fresh blood to revive loss-makin...  \n",
       "8     Investments by FIIs top USD 5 billion. Investm...  \n",
       "9     PSU insurance firms unite for $3-b A-I deal. B...  \n",
       "10    Mega aviation deal in the air. NTPC to invest ...  \n",
       "11    Asia's budget carriers cruise towards India. S...  \n",
       "12    Priyamvada's assets have little charity. Infy ...  \n",
       "13    JK Tyre eyes buyouts in Latin America. Motorol...  \n",
       "14             Inflation touches 22-months low of 4.09%  \n",
       "15    BPL family settles dispute. Jhunjhunwala to bu...  \n",
       "16    Wanna job? Be fast & fearless. Promoter's stak...  \n",
       "17    Freight rates up with costlier fuel. A Spice h...  \n",
       "18    Tatas; Jharkhand resolve dispute. FDI destinat...  \n",
       "19    AAI to hive off Air Traffic Control. India bac...  \n",
       "20    HCL Comnet to hike headcount to 5;000. Hyundai...  \n",
       "21    Govt to review petrol; diesel prices. Boeing t...  \n",
       "22    Now; it's procurement offshoring. Hero Motors ...  \n",
       "23    PMO okays ONGC's Mangalore plan. Oswal group p...  \n",
       "24    Bull run! Sensex hits all time high. Bull run!...  \n",
       "25    Bharti Tele-Ventures Q1 net rises 70%. Service...  \n",
       "26                 Stock markets shut due to rain havoc  \n",
       "27    Scorpio push: M&M net profit up 40%. India; co...  \n",
       "28    Nestle India to set up unit for Rs 100 crore. ...  \n",
       "29    Who's afraid of the raging bull?. AV Birla; Ta...  \n",
       "...                                                 ...  \n",
       "5407  Indian Bank cuts lending rate by 30 bps. Auto ...  \n",
       "5408  PropShare Capital raises Rs 80cr for commercia...  \n",
       "5409  WFH model may let you log in from comfort of h...  \n",
       "5410  Cholamandalam Q4 net profit down by 85%. Premi...  \n",
       "5411  Iffco Tokio hires 400 in lockdown. Banks to in...  \n",
       "5412  Zomato to focus on food delivery; cut back gro...  \n",
       "5413  Debt recovery tribunals not functional; bank m...  \n",
       "5414  Celkon forays into healthcare devices. ADIA la...  \n",
       "5415  Paytm Payments Bank profit up 55%. STPI-Hyd un...  \n",
       "5416  SBI looks for CFO in the market. For first tim...  \n",
       "5417  Smart tech helps companies cut human contact. ...  \n",
       "5418  Recovery faster than expected: Airbnb. Multipl...  \n",
       "5419  3 Tata ships sell for Rs 1;600 crore. RBI sets...  \n",
       "5420  Revival sign: Hiring up in some sectors. Govt ...  \n",
       "5421  UTI MF board names acting chief Rahman full-ti...  \n",
       "5422  RIL's rights offer shares list at Rs 690. Mute...  \n",
       "5423  Standard Life to sell up to 1.2cr HDFC MF shar...  \n",
       "5424  CavinKare will shut HQ; to rent out office spa...  \n",
       "5425  Blueconch Tech plans to hire 1k in next 2 yrs....  \n",
       "5426  25% Indians willing to stop insurance premiums...  \n",
       "5427  India looks at 'travel bubbles'; domestic fare...  \n",
       "5428  Bajaj Auto makes 'surprising' recovery. RBI nu...  \n",
       "5429  N Chandrasekaran appointed on RBI board again....  \n",
       "5430  IT stocks shrug off H-1B jitters. Finmin calls...  \n",
       "5431  Truck firms look for new export markets to sel...  \n",
       "5432  Preferential offers get more pricing options f...  \n",
       "5433  'Ashok Leyland independent biz; won't be impac...  \n",
       "5434  Ordinance to let RBI revive banks without mora...  \n",
       "5435  Techtonic Review: The OnePlus 8 and OnePlus 8 ...  \n",
       "5436  Solar plan to make Leh self-reliant hanging fi...  \n",
       "\n",
       "[5437 rows x 3 columns]>"
      ]
     },
     "execution_count": 22,
     "metadata": {},
     "output_type": "execute_result"
    }
   ],
   "source": [
    "df3.head"
   ]
  },
  {
   "cell_type": "code",
   "execution_count": 23,
   "metadata": {},
   "outputs": [
    {
     "name": "stderr",
     "output_type": "stream",
     "text": [
      "C:\\Users\\Public\\Anaconda\\lib\\site-packages\\ipykernel_launcher.py:1: UserWarning: Pandas doesn't allow columns to be created via a new attribute name - see https://pandas.pydata.org/pandas-docs/stable/indexing.html#attribute-access\n",
      "  \"\"\"Entry point for launching an IPython kernel.\n"
     ]
    },
    {
     "data": {
      "text/html": [
       "<div>\n",
       "<style scoped>\n",
       "    .dataframe tbody tr th:only-of-type {\n",
       "        vertical-align: middle;\n",
       "    }\n",
       "\n",
       "    .dataframe tbody tr th {\n",
       "        vertical-align: top;\n",
       "    }\n",
       "\n",
       "    .dataframe thead th {\n",
       "        text-align: right;\n",
       "    }\n",
       "</style>\n",
       "<table border=\"1\" class=\"dataframe\">\n",
       "  <thead>\n",
       "    <tr style=\"text-align: right;\">\n",
       "      <th>Symbols</th>\n",
       "      <th>AAPL</th>\n",
       "      <th>GE</th>\n",
       "      <th>GOOG</th>\n",
       "      <th>IBM</th>\n",
       "      <th>MSFT</th>\n",
       "    </tr>\n",
       "    <tr>\n",
       "      <th>Date</th>\n",
       "      <th></th>\n",
       "      <th></th>\n",
       "      <th></th>\n",
       "      <th></th>\n",
       "      <th></th>\n",
       "    </tr>\n",
       "  </thead>\n",
       "  <tbody>\n",
       "    <tr>\n",
       "      <th>2015-10-21</th>\n",
       "      <td>26.281809</td>\n",
       "      <td>24.426851</td>\n",
       "      <td>642.609985</td>\n",
       "      <td>112.848816</td>\n",
       "      <td>42.895134</td>\n",
       "    </tr>\n",
       "    <tr>\n",
       "      <th>2015-10-22</th>\n",
       "      <td>26.683798</td>\n",
       "      <td>25.044931</td>\n",
       "      <td>651.789978</td>\n",
       "      <td>115.387383</td>\n",
       "      <td>43.649437</td>\n",
       "    </tr>\n",
       "    <tr>\n",
       "      <th>2015-10-23</th>\n",
       "      <td>27.510878</td>\n",
       "      <td>24.985662</td>\n",
       "      <td>702.000000</td>\n",
       "      <td>115.859840</td>\n",
       "      <td>48.048008</td>\n",
       "    </tr>\n",
       "    <tr>\n",
       "      <th>2015-10-26</th>\n",
       "      <td>26.632969</td>\n",
       "      <td>25.019533</td>\n",
       "      <td>712.780029</td>\n",
       "      <td>115.042992</td>\n",
       "      <td>49.302139</td>\n",
       "    </tr>\n",
       "    <tr>\n",
       "      <th>2015-10-27</th>\n",
       "      <td>26.464319</td>\n",
       "      <td>24.943325</td>\n",
       "      <td>708.489990</td>\n",
       "      <td>110.398384</td>\n",
       "      <td>48.793213</td>\n",
       "    </tr>\n",
       "    <tr>\n",
       "      <th>2015-10-28</th>\n",
       "      <td>27.554773</td>\n",
       "      <td>24.884060</td>\n",
       "      <td>712.950012</td>\n",
       "      <td>112.776749</td>\n",
       "      <td>49.056763</td>\n",
       "    </tr>\n",
       "    <tr>\n",
       "      <th>2015-10-29</th>\n",
       "      <td>27.845867</td>\n",
       "      <td>24.841722</td>\n",
       "      <td>716.919983</td>\n",
       "      <td>112.552536</td>\n",
       "      <td>48.493317</td>\n",
       "    </tr>\n",
       "    <tr>\n",
       "      <th>2015-10-30</th>\n",
       "      <td>27.607912</td>\n",
       "      <td>24.486118</td>\n",
       "      <td>710.809998</td>\n",
       "      <td>112.176132</td>\n",
       "      <td>47.838978</td>\n",
       "    </tr>\n",
       "    <tr>\n",
       "      <th>2015-11-02</th>\n",
       "      <td>27.996040</td>\n",
       "      <td>24.892523</td>\n",
       "      <td>721.109985</td>\n",
       "      <td>112.408371</td>\n",
       "      <td>48.384258</td>\n",
       "    </tr>\n",
       "    <tr>\n",
       "      <th>2015-11-03</th>\n",
       "      <td>28.317165</td>\n",
       "      <td>25.053396</td>\n",
       "      <td>722.159973</td>\n",
       "      <td>113.617569</td>\n",
       "      <td>49.211269</td>\n",
       "    </tr>\n",
       "  </tbody>\n",
       "</table>\n",
       "</div>"
      ],
      "text/plain": [
       "Symbols          AAPL         GE        GOOG         IBM       MSFT\n",
       "Date                                                               \n",
       "2015-10-21  26.281809  24.426851  642.609985  112.848816  42.895134\n",
       "2015-10-22  26.683798  25.044931  651.789978  115.387383  43.649437\n",
       "2015-10-23  27.510878  24.985662  702.000000  115.859840  48.048008\n",
       "2015-10-26  26.632969  25.019533  712.780029  115.042992  49.302139\n",
       "2015-10-27  26.464319  24.943325  708.489990  110.398384  48.793213\n",
       "2015-10-28  27.554773  24.884060  712.950012  112.776749  49.056763\n",
       "2015-10-29  27.845867  24.841722  716.919983  112.552536  48.493317\n",
       "2015-10-30  27.607912  24.486118  710.809998  112.176132  47.838978\n",
       "2015-11-02  27.996040  24.892523  721.109985  112.408371  48.384258\n",
       "2015-11-03  28.317165  25.053396  722.159973  113.617569  49.211269"
      ]
     },
     "execution_count": 23,
     "metadata": {},
     "output_type": "execute_result"
    }
   ],
   "source": [
    "df.comp = web.DataReader(['AAPL', 'GE', 'GOOG', 'IBM', 'MSFT'], 'yahoo')['Adj Close']\n",
    "df.comp.head(10)"
   ]
  },
  {
   "cell_type": "code",
   "execution_count": 24,
   "metadata": {},
   "outputs": [
    {
     "data": {
      "text/html": [
       "<div>\n",
       "<style scoped>\n",
       "    .dataframe tbody tr th:only-of-type {\n",
       "        vertical-align: middle;\n",
       "    }\n",
       "\n",
       "    .dataframe tbody tr th {\n",
       "        vertical-align: top;\n",
       "    }\n",
       "\n",
       "    .dataframe thead th {\n",
       "        text-align: right;\n",
       "    }\n",
       "</style>\n",
       "<table border=\"1\" class=\"dataframe\">\n",
       "  <thead>\n",
       "    <tr style=\"text-align: right;\">\n",
       "      <th>Symbols</th>\n",
       "      <th>AAPL</th>\n",
       "      <th>GE</th>\n",
       "      <th>GOOG</th>\n",
       "      <th>IBM</th>\n",
       "      <th>MSFT</th>\n",
       "    </tr>\n",
       "    <tr>\n",
       "      <th>Date</th>\n",
       "      <th></th>\n",
       "      <th></th>\n",
       "      <th></th>\n",
       "      <th></th>\n",
       "      <th></th>\n",
       "    </tr>\n",
       "  </thead>\n",
       "  <tbody>\n",
       "    <tr>\n",
       "      <th>2015-10-21</th>\n",
       "      <td>NaN</td>\n",
       "      <td>NaN</td>\n",
       "      <td>NaN</td>\n",
       "      <td>NaN</td>\n",
       "      <td>NaN</td>\n",
       "    </tr>\n",
       "    <tr>\n",
       "      <th>2015-10-22</th>\n",
       "      <td>0.015295</td>\n",
       "      <td>0.025303</td>\n",
       "      <td>0.014285</td>\n",
       "      <td>0.022495</td>\n",
       "      <td>0.017585</td>\n",
       "    </tr>\n",
       "    <tr>\n",
       "      <th>2015-10-23</th>\n",
       "      <td>0.030996</td>\n",
       "      <td>-0.002367</td>\n",
       "      <td>0.077034</td>\n",
       "      <td>0.004095</td>\n",
       "      <td>0.100770</td>\n",
       "    </tr>\n",
       "    <tr>\n",
       "      <th>2015-10-26</th>\n",
       "      <td>-0.031911</td>\n",
       "      <td>0.001356</td>\n",
       "      <td>0.015356</td>\n",
       "      <td>-0.007050</td>\n",
       "      <td>0.026102</td>\n",
       "    </tr>\n",
       "    <tr>\n",
       "      <th>2015-10-27</th>\n",
       "      <td>-0.006332</td>\n",
       "      <td>-0.003046</td>\n",
       "      <td>-0.006019</td>\n",
       "      <td>-0.040373</td>\n",
       "      <td>-0.010323</td>\n",
       "    </tr>\n",
       "    <tr>\n",
       "      <th>2015-10-28</th>\n",
       "      <td>0.041205</td>\n",
       "      <td>-0.002376</td>\n",
       "      <td>0.006295</td>\n",
       "      <td>0.021543</td>\n",
       "      <td>0.005401</td>\n",
       "    </tr>\n",
       "    <tr>\n",
       "      <th>2015-10-29</th>\n",
       "      <td>0.010564</td>\n",
       "      <td>-0.001701</td>\n",
       "      <td>0.005568</td>\n",
       "      <td>-0.001988</td>\n",
       "      <td>-0.011486</td>\n",
       "    </tr>\n",
       "    <tr>\n",
       "      <th>2015-10-30</th>\n",
       "      <td>-0.008545</td>\n",
       "      <td>-0.014315</td>\n",
       "      <td>-0.008523</td>\n",
       "      <td>-0.003344</td>\n",
       "      <td>-0.013493</td>\n",
       "    </tr>\n",
       "    <tr>\n",
       "      <th>2015-11-02</th>\n",
       "      <td>0.014059</td>\n",
       "      <td>0.016597</td>\n",
       "      <td>0.014490</td>\n",
       "      <td>0.002070</td>\n",
       "      <td>0.011398</td>\n",
       "    </tr>\n",
       "    <tr>\n",
       "      <th>2015-11-03</th>\n",
       "      <td>0.011470</td>\n",
       "      <td>0.006463</td>\n",
       "      <td>0.001456</td>\n",
       "      <td>0.010757</td>\n",
       "      <td>0.017093</td>\n",
       "    </tr>\n",
       "  </tbody>\n",
       "</table>\n",
       "</div>"
      ],
      "text/plain": [
       "Symbols         AAPL        GE      GOOG       IBM      MSFT\n",
       "Date                                                        \n",
       "2015-10-21       NaN       NaN       NaN       NaN       NaN\n",
       "2015-10-22  0.015295  0.025303  0.014285  0.022495  0.017585\n",
       "2015-10-23  0.030996 -0.002367  0.077034  0.004095  0.100770\n",
       "2015-10-26 -0.031911  0.001356  0.015356 -0.007050  0.026102\n",
       "2015-10-27 -0.006332 -0.003046 -0.006019 -0.040373 -0.010323\n",
       "2015-10-28  0.041205 -0.002376  0.006295  0.021543  0.005401\n",
       "2015-10-29  0.010564 -0.001701  0.005568 -0.001988 -0.011486\n",
       "2015-10-30 -0.008545 -0.014315 -0.008523 -0.003344 -0.013493\n",
       "2015-11-02  0.014059  0.016597  0.014490  0.002070  0.011398\n",
       "2015-11-03  0.011470  0.006463  0.001456  0.010757  0.017093"
      ]
     },
     "execution_count": 24,
     "metadata": {},
     "output_type": "execute_result"
    }
   ],
   "source": [
    "retscomp = df.comp.pct_change()\n",
    "corr = retscomp.corr()\n",
    "retscomp.head(10)"
   ]
  },
  {
   "cell_type": "code",
   "execution_count": 25,
   "metadata": {},
   "outputs": [
    {
     "data": {
      "image/png": "[encoded data removed]",
      "text/plain": [
       "<Figure size 432x288 with 2 Axes>"
      ]
     },
     "metadata": {
      "needs_background": "light"
     },
     "output_type": "display_data"
    }
   ],
   "source": [
    "plt.imshow(corr, cmap = 'seismic', interpolation = 'none')\n",
    "plt.colorbar()\n",
    "plt.xticks(range(len(corr)), corr.columns)\n",
    "plt.yticks(range(len(corr)), corr.columns);"
   ]
  },
  {
   "cell_type": "code",
   "execution_count": 26,
   "metadata": {},
   "outputs": [
    {
     "data": {
      "text/plain": [
       "0   NaN\n",
       "1   NaN\n",
       "2   NaN\n",
       "3   NaN\n",
       "4   NaN\n",
       "5   NaN\n",
       "6   NaN\n",
       "7   NaN\n",
       "8   NaN\n",
       "9   NaN\n",
       "Name: Adj Close, dtype: float64"
      ]
     },
     "execution_count": 26,
     "metadata": {},
     "output_type": "execute_result"
    }
   ],
   "source": [
    "close_px = df['Adj Close']\n",
    "mavg = close_px.rolling(window = 100).mean()\n",
    "mavg.head(10)"
   ]
  },
  {
   "cell_type": "code",
   "execution_count": 27,
   "metadata": {},
   "outputs": [
    {
     "data": {
      "image/png": "[encoded data removed]",
      "text/plain": [
       "<Figure size 432x288 with 1 Axes>"
      ]
     },
     "metadata": {
      "needs_background": "light"
     },
     "output_type": "display_data"
    }
   ],
   "source": [
    "close_px.plot(label = 'AAPL')\n",
    "mavg.plot(label = 'mavg')\n",
    "plt.legend()\n",
    "plt.show()"
   ]
  },
  {
   "cell_type": "code",
   "execution_count": 28,
   "metadata": {},
   "outputs": [
    {
     "data": {
      "image/png": "[encoded data removed]",
      "text/plain": [
       "<Figure size 432x288 with 1 Axes>"
      ]
     },
     "metadata": {
      "needs_background": "light"
     },
     "output_type": "display_data"
    }
   ],
   "source": [
    "rets = close_px / close_px.shift(1) - 1\n",
    "rets.plot(label = 'return')\n",
    "plt.show()"
   ]
  },
  {
   "cell_type": "code",
   "execution_count": 29,
   "metadata": {},
   "outputs": [
    {
     "data": {
      "image/png": "[encoded data removed]",
      "text/plain": [
       "<Figure size 432x288 with 1 Axes>"
      ]
     },
     "metadata": {
      "needs_background": "light"
     },
     "output_type": "display_data"
    }
   ],
   "source": [
    "df1['headline_text'].str.len().hist()\n",
    "plt.show()"
   ]
  },
  {
   "cell_type": "code",
   "execution_count": 30,
   "metadata": {},
   "outputs": [
    {
     "name": "stderr",
     "output_type": "stream",
     "text": [
      "[nltk_data] Downloading package stopwords to C:\\Users\\Apurwa\n",
      "[nltk_data]     Kamble\\AppData\\Roaming\\nltk_data...\n",
      "[nltk_data]   Package stopwords is already up-to-date!\n"
     ]
    }
   ],
   "source": [
    "import nltk\n",
    "from nltk.corpus import stopwords\n",
    "nltk.download('stopwords')\n",
    "stop = set(stopwords.words('english'))"
   ]
  },
  {
   "cell_type": "code",
   "execution_count": 31,
   "metadata": {},
   "outputs": [],
   "source": [
    "corpus = []\n",
    "new = df1['headline_text'].str.split()\n",
    "new = new.values.tolist()\n",
    "corpus = [word for i in new for word in i]"
   ]
  },
  {
   "cell_type": "code",
   "execution_count": 32,
   "metadata": {},
   "outputs": [],
   "source": [
    "from collections import defaultdict\n",
    "\n",
    "dict = defaultdict(int)\n",
    "for word in corpus:\n",
    "    if word in stop:\n",
    "        dict[word]+=1"
   ]
  },
  {
   "cell_type": "code",
   "execution_count": 33,
   "metadata": {},
   "outputs": [],
   "source": [
    "from collections import Counter\n",
    "\n",
    "counter = Counter(corpus)\n",
    "most = counter.most_common()\n",
    "x, y = [], []\n",
    "for word, count in most[:40]:\n",
    "    if (word not in stop):\n",
    "        x.append(word)\n",
    "        y.append(count)"
   ]
  },
  {
   "cell_type": "code",
   "execution_count": 34,
   "metadata": {},
   "outputs": [
    {
     "data": {
      "image/png": "[encoded data removed]",
      "text/plain": [
       "<Figure size 432x288 with 1 Axes>"
      ]
     },
     "metadata": {
      "needs_background": "light"
     },
     "output_type": "display_data"
    }
   ],
   "source": [
    "sns.barplot(x = y , y = x)\n",
    "plt.show()"
   ]
  }
 ],
 "metadata": {
  "colab": {
   "authorship_tag": "ABX9TyNTXMuq6NGfi1g4K9ZHN1QU",
   "collapsed_sections": [],
   "name": "TASK4.ipynb",
   "provenance": []
  },
  "kernelspec": {
   "display_name": "Python 2",
   "language": "python",
   "name": "python2"
  },
  "language_info": {
   "codemirror_mode": {
    "name": "ipython",
    "version": 2
   },
   "file_extension": ".py",
   "mimetype": "text/x-python",
   "name": "python",
   "nbconvert_exporter": "python",
   "pygments_lexer": "ipython2",
   "version": "2.7.16"
  }
 },
 "nbformat": 4,
 "nbformat_minor": 1
}
